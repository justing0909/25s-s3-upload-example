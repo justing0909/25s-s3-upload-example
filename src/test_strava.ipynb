{
 "cells": [
  {
   "cell_type": "code",
   "execution_count": 3,
   "id": "abf7e90d",
   "metadata": {},
   "outputs": [
    {
     "ename": "ModuleNotFoundError",
     "evalue": "No module named 'swagger_model'",
     "output_type": "error",
     "traceback": [
      "\u001b[0;31m---------------------------------------------------------------------------\u001b[0m",
      "\u001b[0;31mModuleNotFoundError\u001b[0m                       Traceback (most recent call last)",
      "Cell \u001b[0;32mIn[3], line 3\u001b[0m\n\u001b[1;32m      1\u001b[0m \u001b[38;5;66;03m# from __future__ import print_statement\u001b[39;00m\n\u001b[1;32m      2\u001b[0m \u001b[38;5;28;01mimport\u001b[39;00m \u001b[38;5;21;01mtime\u001b[39;00m\n\u001b[0;32m----> 3\u001b[0m \u001b[38;5;28;01mfrom\u001b[39;00m \u001b[38;5;21;01mswaggerpy\u001b[39;00m \u001b[38;5;28;01mimport\u001b[39;00m client\n\u001b[1;32m      4\u001b[0m \u001b[38;5;66;03m# from client.rest import ApiException\u001b[39;00m\n\u001b[1;32m      5\u001b[0m \u001b[38;5;28;01mfrom\u001b[39;00m \u001b[38;5;21;01mpprint\u001b[39;00m \u001b[38;5;28;01mimport\u001b[39;00m pprint\n",
      "File \u001b[0;32m/opt/anaconda3/envs/ds4400/lib/python3.10/site-packages/swaggerpy/__init__.py:13\u001b[0m\n\u001b[1;32m      5\u001b[0m \u001b[38;5;124;03m\"\"\"Swagger processing libraries.\u001b[39;00m\n\u001b[1;32m      6\u001b[0m \n\u001b[1;32m      7\u001b[0m \u001b[38;5;124;03mMore information on Swagger can be found `on the Swagger website\u001b[39;00m\n\u001b[1;32m      8\u001b[0m \u001b[38;5;124;03m<https://developers.helloreverb.com/swagger/>`\u001b[39;00m\n\u001b[1;32m      9\u001b[0m \u001b[38;5;124;03m\"\"\"\u001b[39;00m\n\u001b[1;32m     11\u001b[0m __all__ \u001b[38;5;241m=\u001b[39m [\u001b[38;5;124m\"\u001b[39m\u001b[38;5;124mclient\u001b[39m\u001b[38;5;124m\"\u001b[39m, \u001b[38;5;124m\"\u001b[39m\u001b[38;5;124mcodegen\u001b[39m\u001b[38;5;124m\"\u001b[39m, \u001b[38;5;124m\"\u001b[39m\u001b[38;5;124mprocessors\u001b[39m\u001b[38;5;124m\"\u001b[39m, \u001b[38;5;124m\"\u001b[39m\u001b[38;5;124mswagger_model\u001b[39m\u001b[38;5;124m\"\u001b[39m]\n\u001b[0;32m---> 13\u001b[0m \u001b[38;5;28;01mfrom\u001b[39;00m \u001b[38;5;21;01mswagger_model\u001b[39;00m \u001b[38;5;28;01mimport\u001b[39;00m load_file, load_json, load_url, Loader\n\u001b[1;32m     14\u001b[0m \u001b[38;5;28;01mfrom\u001b[39;00m \u001b[38;5;21;01mprocessors\u001b[39;00m \u001b[38;5;28;01mimport\u001b[39;00m SwaggerProcessor, SwaggerError\n",
      "\u001b[0;31mModuleNotFoundError\u001b[0m: No module named 'swagger_model'"
     ]
    }
   ],
   "source": [
    "# from __future__ import print_statement\n",
    "import time\n",
    "from swaggerpy import client\n",
    "# from client.rest import ApiException\n",
    "from pprint import pprint\n",
    "import time\n",
    "\n",
    "# Configure OAuth2 access token for authorization: strava_oauth\n",
    "client.configuration.access_token = 'c05ff4d33f695c0f66f070f94947d5eef163bfb5'\n",
    "\n",
    "# create an instance of the API class\n",
    "api_instance = client.ActivitiesApi()\n",
    "name = \"idk\" # String | The name of the activity.\n",
    "sportType = \"run_ex\" # String | Sport type of activity. For example - Run, MountainBikeRide, Ride, etc.\n",
    "startDateLocal =  \"2023-10-01T00:00:00Z\" # String | The start time of the activity in ISO 8601 format. For example - 2013-08-30T14:22:00Z\n",
    "elapsedTime = 56 # Integer | In seconds.\n",
    "type = \"run_ex\" # String | Type of activity. For example - Run, Ride etc. (optional)\n",
    "description = \"n/a\" # String | Description of the activity. (optional)\n",
    "distance = 3.4 # Float | In meters. (optional)\n",
    "trainer = 56 # Integer | Set to 1 to mark as a trainer activity. (optional)\n",
    "commute = 56 # Integer | Set to 1 to mark as commute. (optional)\n",
    "\n",
    "try: \n",
    "    # Create an Activity\n",
    "    api_response = api_instance.createActivity(name, sportType, startDateLocal, elapsedTime, type=type, description=description, distance=distance, trainer=trainer, commute=commute)\n",
    "    pprint(api_response)\n",
    "except:\n",
    "    print(\"this doesn't work...\")"
   ]
  }
 ],
 "metadata": {
  "kernelspec": {
   "display_name": "Python 3",
   "language": "python",
   "name": "python3"
  },
  "language_info": {
   "codemirror_mode": {
    "name": "ipython",
    "version": 3
   },
   "file_extension": ".py",
   "mimetype": "text/x-python",
   "name": "python",
   "nbconvert_exporter": "python",
   "pygments_lexer": "ipython3",
   "version": "3.10.13"
  }
 },
 "nbformat": 4,
 "nbformat_minor": 5
}
